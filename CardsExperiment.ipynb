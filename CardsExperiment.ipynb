{
 "cells": [
  {
   "cell_type": "code",
   "execution_count": 1,
   "id": "89859a1f-2f55-4974-85db-27db19cf3273",
   "metadata": {},
   "outputs": [],
   "source": [
    "import cards"
   ]
  },
  {
   "cell_type": "code",
   "execution_count": 2,
   "id": "6abd0e56-e6c0-44f5-9d45-3456b3f4dcea",
   "metadata": {},
   "outputs": [
    {
     "name": "stdout",
     "output_type": "stream",
     "text": [
      "['Counter', '__builtins__', '__cached__', '__doc__', '__file__', '__loader__', '__name__', '__package__', '__spec__', 'cards_dict', 'faces', 'generateDeck', 'identify_remove_pairs', 'numbers', 'random', 'suits']\n"
     ]
    }
   ],
   "source": [
    "print(dir(cards))"
   ]
  },
  {
   "cell_type": "code",
   "execution_count": 4,
   "id": "a313b058-7949-49a2-b67f-89d47ef69285",
   "metadata": {},
   "outputs": [],
   "source": [
    "import os"
   ]
  },
  {
   "cell_type": "code",
   "execution_count": 6,
   "id": "8cf32d0c-7fc6-45b6-984a-decbd618f917",
   "metadata": {},
   "outputs": [
    {
     "data": {
      "text/plain": [
       "['10 of Spades',\n",
       " '4 of Clubs',\n",
       " 'Ace of Diamonds',\n",
       " 'Ace of Clubs',\n",
       " '10 of Hearts',\n",
       " '6 of Hearts',\n",
       " '6 of Diamonds',\n",
       " 'Queen of Diamonds',\n",
       " '10 of Clubs',\n",
       " '4 of Spades',\n",
       " 'Jack of Diamonds',\n",
       " 'Queen of Clubs',\n",
       " '3 of Diamonds',\n",
       " '7 of Hearts',\n",
       " 'King of Spades',\n",
       " '2 of Spades',\n",
       " '10 of Diamonds',\n",
       " '2 of Diamonds',\n",
       " '8 of Hearts',\n",
       " '5 of Spades',\n",
       " 'Queen of Spades',\n",
       " 'Jack of Spades',\n",
       " '7 of Spades',\n",
       " '3 of Clubs',\n",
       " '6 of Spades',\n",
       " '5 of Hearts',\n",
       " '8 of Clubs',\n",
       " 'Jack of Hearts',\n",
       " '4 of Hearts',\n",
       " '9 of Spades',\n",
       " '9 of Clubs',\n",
       " 'Jack of Clubs',\n",
       " '6 of Clubs',\n",
       " '8 of Spades',\n",
       " 'Queen of Hearts',\n",
       " '5 of Diamonds',\n",
       " '8 of Diamonds',\n",
       " 'King of Hearts',\n",
       " 'King of Clubs',\n",
       " 'Ace of Spades',\n",
       " '5 of Clubs',\n",
       " 'Ace of Hearts',\n",
       " '3 of Spades',\n",
       " '9 of Hearts',\n",
       " '2 of Hearts',\n",
       " '4 of Diamonds',\n",
       " '7 of Diamonds',\n",
       " '9 of Diamonds',\n",
       " 'King of Diamonds',\n",
       " '2 of Clubs',\n",
       " '7 of Clubs',\n",
       " '3 of Hearts']"
      ]
     },
     "execution_count": 6,
     "metadata": {},
     "output_type": "execute_result"
    }
   ],
   "source": [
    "cards.generateDeck()"
   ]
  },
  {
   "cell_type": "code",
   "execution_count": 8,
   "id": "2544ac54-ed54-4116-aeb0-bf2b7ad2007a",
   "metadata": {},
   "outputs": [
    {
     "name": "stdout",
     "output_type": "stream",
     "text": [
      "['10_of_clubs.png', '10_of_diamonds.png', '10_of_hearts.png', '10_of_spades.png', '2_of_clubs.png', '2_of_diamonds.png', '2_of_hearts.png', '2_of_spades.png', '3_of_clubs.png', '3_of_diamonds.png', '3_of_hearts.png', '3_of_spades.png', '4_of_clubs.png', '4_of_diamonds.png', '4_of_hearts.png', '4_of_spades.png', '5_of_clubs.png', '5_of_diamonds.png', '5_of_hearts.png', '5_of_spades.png', '6_of_clubs.png', '6_of_diamonds.png', '6_of_hearts.png', '6_of_spades.png', '7_of_clubs.png', '7_of_diamonds.png', '7_of_hearts.png', '7_of_spades.png', '8_of_clubs.png', '8_of_diamonds.png', '8_of_hearts.png', '8_of_spades.png', '9_of_clubs.png', '9_of_diamonds.png', '9_of_hearts.png', '9_of_spades.png', 'ace_of_clubs.png', 'ace_of_diamonds.png', 'ace_of_hearts.png', 'ace_of_spades.png', 'back.png', 'jack_of_clubs.png', 'jack_of_diamonds.png', 'jack_of_hearts.png', 'jack_of_spades.png', 'king_of_clubs.png', 'king_of_diamonds.png', 'king_of_hearts.png', 'king_of_spades.png', 'queen_of_clubs.png', 'queen_of_diamonds.png', 'queen_of_hearts.png', 'queen_of_spades.png']\n"
     ]
    }
   ],
   "source": [
    "print(os.listdir(\"static/cards\"))"
   ]
  },
  {
   "cell_type": "code",
   "execution_count": 9,
   "id": "bb8b8adf-5a79-476c-8027-d123067b8634",
   "metadata": {},
   "outputs": [],
   "source": [
    "path = \"static/cards/\""
   ]
  },
  {
   "cell_type": "code",
   "execution_count": 10,
   "id": "648b24de-cedc-4e5d-a83b-d813f4231325",
   "metadata": {},
   "outputs": [
    {
     "ename": "NameError",
     "evalue": "name 'player' is not defined",
     "output_type": "error",
     "traceback": [
      "\u001b[1;31m---------------------------------------------------------------------------\u001b[0m",
      "\u001b[1;31mNameError\u001b[0m                                 Traceback (most recent call last)",
      "Cell \u001b[1;32mIn[10], line 1\u001b[0m\n\u001b[1;32m----> 1\u001b[0m \u001b[43mplayer\u001b[49m\n",
      "\u001b[1;31mNameError\u001b[0m: name 'player' is not defined"
     ]
    }
   ],
   "source": [
    "player"
   ]
  },
  {
   "cell_type": "code",
   "execution_count": 11,
   "id": "16c67770-4707-44a4-a72b-757a4324ec80",
   "metadata": {},
   "outputs": [],
   "source": [
    "import random\n",
    "\n",
    "def playersHand():\n",
    "    print(\"\\n\\tPlayer's hand: \")\n",
    "    for n, card in enumerate(player):\n",
    "        print(f\"\\t\\t{n} --> {card}\")\n",
    "\n",
    "deck = cards.generateDeck()\n",
    "\n",
    "computer = []\n",
    "player = []\n",
    "\n",
    "for _ in range(7):\n",
    "    computer.append(deck.pop())\n",
    "    player.append(deck.pop())\n",
    "\n",
    "\n",
    "\n",
    "player_pairs = []\n",
    "computer_pairs = []\n",
    "\n",
    "\n",
    "player, pairs = cards.identify_remove_pairs(player)\n",
    "player_pairs.extend(pairs)\n",
    "computer, pairs = cards.identify_remove_pairs(computer)\n",
    "computer_pairs.extend(pairs)\n"
   ]
  },
  {
   "cell_type": "code",
   "execution_count": 12,
   "id": "bd98223b-1647-455f-b941-058ebd555482",
   "metadata": {},
   "outputs": [
    {
     "data": {
      "text/plain": [
       "['Queen of Clubs',\n",
       " '10 of Hearts',\n",
       " '8 of Hearts',\n",
       " '7 of Hearts',\n",
       " 'King of Clubs']"
      ]
     },
     "execution_count": 12,
     "metadata": {},
     "output_type": "execute_result"
    }
   ],
   "source": [
    "player"
   ]
  },
  {
   "cell_type": "code",
   "execution_count": 13,
   "id": "6e9b97b4-34d6-4425-93f9-fc34a4d7fd8e",
   "metadata": {},
   "outputs": [
    {
     "data": {
      "text/plain": [
       "'queen_of_clubs.png'"
      ]
     },
     "execution_count": 13,
     "metadata": {},
     "output_type": "execute_result"
    }
   ],
   "source": [
    "player[0].lower().replace(\" \", \"_\")+\".png\""
   ]
  },
  {
   "cell_type": "code",
   "execution_count": 14,
   "id": "264c23b0-8128-4da6-8f36-c5175ff847f4",
   "metadata": {},
   "outputs": [],
   "source": [
    "images = []\n",
    "\n",
    "for card in player:\n",
    "    images.append(path + card.lower().replace(\" \", \"_\") + \".png\")"
   ]
  },
  {
   "cell_type": "code",
   "execution_count": 15,
   "id": "a66485dd-84ed-4fab-892d-e12c69340b27",
   "metadata": {},
   "outputs": [
    {
     "data": {
      "text/plain": [
       "['static/cards/queen_of_clubs.png',\n",
       " 'static/cards/10_of_hearts.png',\n",
       " 'static/cards/8_of_hearts.png',\n",
       " 'static/cards/7_of_hearts.png',\n",
       " 'static/cards/king_of_clubs.png']"
      ]
     },
     "execution_count": 15,
     "metadata": {},
     "output_type": "execute_result"
    }
   ],
   "source": [
    "images"
   ]
  },
  {
   "cell_type": "code",
   "execution_count": 17,
   "id": "834ddbef-959c-4075-acd0-ee89ef6a79d6",
   "metadata": {},
   "outputs": [],
   "source": [
    "nums = [1,2,3]"
   ]
  },
  {
   "cell_type": "code",
   "execution_count": 18,
   "id": "1daee20b-eae4-40ba-95c7-1b92fcbe2d19",
   "metadata": {},
   "outputs": [],
   "source": [
    "doubles = []\n",
    "\n",
    "for n in nums:\n",
    "    doubles.append(n*2)"
   ]
  },
  {
   "cell_type": "code",
   "execution_count": 19,
   "id": "0ab1d487-453d-4ece-a756-38a3c387cf59",
   "metadata": {},
   "outputs": [
    {
     "data": {
      "text/plain": [
       "[2, 4, 6]"
      ]
     },
     "execution_count": 19,
     "metadata": {},
     "output_type": "execute_result"
    }
   ],
   "source": [
    "doubles"
   ]
  },
  {
   "cell_type": "code",
   "execution_count": 20,
   "id": "742c4fcb-66b2-4ce6-b552-8460310a71fe",
   "metadata": {},
   "outputs": [],
   "source": [
    "doubles2 = [n*2 for n in nums]"
   ]
  },
  {
   "cell_type": "code",
   "execution_count": 21,
   "id": "2e273bc7-5f8c-4e88-8a7e-df5cbf0dd8cb",
   "metadata": {},
   "outputs": [],
   "source": [
    "big = []\n",
    "\n",
    "for n in nums:\n",
    "    if n > 2:\n",
    "        big.append(n)"
   ]
  },
  {
   "cell_type": "code",
   "execution_count": 22,
   "id": "2b558dfb-da4c-4179-8e93-3d6f380cb68d",
   "metadata": {},
   "outputs": [
    {
     "data": {
      "text/plain": [
       "[3]"
      ]
     },
     "execution_count": 22,
     "metadata": {},
     "output_type": "execute_result"
    }
   ],
   "source": [
    "big"
   ]
  },
  {
   "cell_type": "code",
   "execution_count": 23,
   "id": "ee151ee3-32b4-4224-91f8-9b1a4374b734",
   "metadata": {},
   "outputs": [],
   "source": [
    "big2 = [n for n in nums if n > 2] "
   ]
  },
  {
   "cell_type": "code",
   "execution_count": 24,
   "id": "c9d92960-cb26-45dc-bef4-ba456edbdbe0",
   "metadata": {},
   "outputs": [
    {
     "data": {
      "text/plain": [
       "[3]"
      ]
     },
     "execution_count": 24,
     "metadata": {},
     "output_type": "execute_result"
    }
   ],
   "source": [
    "big2"
   ]
  },
  {
   "cell_type": "code",
   "execution_count": 25,
   "id": "19d25972-1a9d-47ca-b6d2-365d7aca2981",
   "metadata": {},
   "outputs": [],
   "source": [
    "images = []\n",
    "\n",
    "for card in player:\n",
    "    images.append(path + card.lower().replace(\" \", \"_\") + \".png\")"
   ]
  },
  {
   "cell_type": "code",
   "execution_count": 26,
   "id": "802b2835-d454-4157-ae04-5fa5b102df45",
   "metadata": {},
   "outputs": [],
   "source": [
    "images = [path + card.lower().replace(\" \", \"_\") + \".png\" for card in player]"
   ]
  },
  {
   "cell_type": "code",
   "execution_count": 27,
   "id": "3c755e97-3e51-4c61-afaa-bce47f9cdc2c",
   "metadata": {},
   "outputs": [
    {
     "data": {
      "text/plain": [
       "['static/cards/queen_of_clubs.png',\n",
       " 'static/cards/10_of_hearts.png',\n",
       " 'static/cards/8_of_hearts.png',\n",
       " 'static/cards/7_of_hearts.png',\n",
       " 'static/cards/king_of_clubs.png']"
      ]
     },
     "execution_count": 27,
     "metadata": {},
     "output_type": "execute_result"
    }
   ],
   "source": [
    "images"
   ]
  },
  {
   "cell_type": "code",
   "execution_count": null,
   "id": "9b0a8fcd-4cf9-419b-8fa3-370051aaf729",
   "metadata": {},
   "outputs": [],
   "source": []
  }
 ],
 "metadata": {
  "kernelspec": {
   "display_name": "Python 3 (ipykernel)",
   "language": "python",
   "name": "python3"
  },
  "language_info": {
   "codemirror_mode": {
    "name": "ipython",
    "version": 3
   },
   "file_extension": ".py",
   "mimetype": "text/x-python",
   "name": "python",
   "nbconvert_exporter": "python",
   "pygments_lexer": "ipython3",
   "version": "3.12.6"
  }
 },
 "nbformat": 4,
 "nbformat_minor": 5
}
